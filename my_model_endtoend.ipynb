{
 "cells": [
  {
   "cell_type": "markdown",
   "id": "d5971a5a-360d-4e6a-971e-27c6da01d7f4",
   "metadata": {},
   "source": [
    "# NECESSARY LIBRARIES"
   ]
  },
  {
   "cell_type": "code",
   "execution_count": 1,
   "id": "3341ca17-ea59-4dba-bb6c-ba9ad3fc28b5",
   "metadata": {},
   "outputs": [
    {
     "name": "stderr",
     "output_type": "stream",
     "text": [
      "[nltk_data] Downloading package punkt to\n",
      "[nltk_data]     C:\\Users\\yakup\\AppData\\Roaming\\nltk_data...\n",
      "[nltk_data]   Package punkt is already up-to-date!\n",
      "[nltk_data] Downloading package stopwords to\n",
      "[nltk_data]     C:\\Users\\yakup\\AppData\\Roaming\\nltk_data...\n",
      "[nltk_data]   Package stopwords is already up-to-date!\n"
     ]
    }
   ],
   "source": [
    "import numpy as np\n",
    "import pandas as pd\n",
    "import matplotlib.pyplot as plt\n",
    "import re\n",
    "#!pip install emoji --upgrade\n",
    "import emoji\n",
    "#!pip install contractions\n",
    "import contractions\n",
    "#!pip install nltk\n",
    "import nltk\n",
    "from nltk.tokenize import word_tokenize\n",
    "nltk.download('punkt')\n",
    "import string\n",
    "from nltk.corpus import stopwords\n",
    "nltk.download('stopwords')\n",
    "stop_words = set(stopwords.words('english'))\n",
    "from nltk.stem import PorterStemmer\n",
    "from nltk.stem import LancasterStemmer\n",
    "from nltk.stem.snowball import SnowballStemmer\n",
    "porter_stemmer = PorterStemmer()\n",
    "lancaster_stemmer = LancasterStemmer()\n",
    "snowball_stemmer = SnowballStemmer('english')"
   ]
  },
  {
   "cell_type": "code",
   "execution_count": 2,
   "id": "c98abbc4-4a9b-4e61-8992-c4c933975399",
   "metadata": {},
   "outputs": [],
   "source": [
    "from sklearn.feature_extraction.text import TfidfVectorizer\n",
    "from sklearn.model_selection import train_test_split\n",
    "from sklearn.linear_model import LogisticRegression"
   ]
  },
  {
   "cell_type": "code",
   "execution_count": 3,
   "id": "85b721f4-07a9-45fc-9d84-e842a020d150",
   "metadata": {},
   "outputs": [],
   "source": [
    "from sklearn.metrics import accuracy_score\n",
    "from sklearn.metrics import confusion_matrix"
   ]
  },
  {
   "cell_type": "markdown",
   "id": "b6c53a94-1b29-42fa-a962-21c7a783cd0d",
   "metadata": {},
   "source": [
    "# Data Cleaning and Tokenization Function"
   ]
  },
  {
   "cell_type": "code",
   "execution_count": 4,
   "id": "1ade8913-924c-4074-9281-5c1923155e65",
   "metadata": {
    "id": "iiQofxMv37Ik"
   },
   "outputs": [],
   "source": [
    "def process_tweet(tweet, verbose=False):\n",
    "    \n",
    "    tweet = re.sub('RT\\s+', '', tweet)\n",
    "   \n",
    "    tweet = re.sub('\\B@\\w+','twitteruser', tweet)\n",
    "    \n",
    "    tweet = re.sub('(http|https):/\\/\\S+', '', tweet)\n",
    "    \n",
    "    tweet = re.sub('#+', '', tweet)\n",
    "    \n",
    "    tweet = tweet.lower()\n",
    "    \n",
    "    tweet = contractions.fix(tweet)\n",
    "    \n",
    "    tweet = re.sub(r'[\\?\\.\\!]+(?=[\\?\\.\\!])', '', tweet)\n",
    "    \n",
    "    tweet = re.sub(r'(.)\\1+', r'\\1\\1', tweet)\n",
    "    \n",
    "    tweet = emoji.demojize(tweet)\n",
    "    \n",
    "    token_list = word_tokenize(tweet)\n",
    "    \n",
    "    token_list = [token for token in token_list\n",
    "                  if token not in string.punctuation]\n",
    "    \n",
    "    token_list = [token for token in token_list\n",
    "                  if token.isalpha()]\n",
    "    stop_words = set(stopwords.words('english'))\n",
    "    stop_words.discard('not')\n",
    "    tokens = [token for token in token_list\n",
    "                  if not token in stop_words] \n",
    "    \n",
    "    token_list = []\n",
    "    for token in tokens:\n",
    "        token_list.append(porter_stemmer.stem(token))\n",
    "  \n",
    "    return token_list"
   ]
  },
  {
   "cell_type": "markdown",
   "id": "3a830708-7a96-4986-8a5c-29b97ac13a32",
   "metadata": {},
   "source": [
    "# Tokenization of the Tweet Data"
   ]
  },
  {
   "cell_type": "code",
   "execution_count": 5,
   "id": "6cacd09e-3e31-4dc6-803c-fee535c4ce7b",
   "metadata": {},
   "outputs": [],
   "source": [
    "df = pd.read_csv('tweet_data.csv')"
   ]
  },
  {
   "cell_type": "code",
   "execution_count": 6,
   "id": "034af336-5a78-4898-bf2e-89c7b13a0c4a",
   "metadata": {},
   "outputs": [
    {
     "data": {
      "text/plain": [
       "(18727, 3)"
      ]
     },
     "execution_count": 6,
     "metadata": {},
     "output_type": "execute_result"
    }
   ],
   "source": [
    "df.shape"
   ]
  },
  {
   "cell_type": "code",
   "execution_count": 7,
   "id": "7ee7350d-7de2-40b5-926c-a0f87f3beb99",
   "metadata": {},
   "outputs": [
    {
     "data": {
      "text/html": [
       "<div>\n",
       "<style scoped>\n",
       "    .dataframe tbody tr th:only-of-type {\n",
       "        vertical-align: middle;\n",
       "    }\n",
       "\n",
       "    .dataframe tbody tr th {\n",
       "        vertical-align: top;\n",
       "    }\n",
       "\n",
       "    .dataframe thead th {\n",
       "        text-align: right;\n",
       "    }\n",
       "</style>\n",
       "<table border=\"1\" class=\"dataframe\">\n",
       "  <thead>\n",
       "    <tr style=\"text-align: right;\">\n",
       "      <th></th>\n",
       "      <th>textID</th>\n",
       "      <th>tweet_text</th>\n",
       "      <th>sentiment</th>\n",
       "    </tr>\n",
       "  </thead>\n",
       "  <tbody>\n",
       "    <tr>\n",
       "      <th>0</th>\n",
       "      <td>1956967666</td>\n",
       "      <td>Layin n bed with a headache  ughhhh...waitin o...</td>\n",
       "      <td>negative</td>\n",
       "    </tr>\n",
       "    <tr>\n",
       "      <th>1</th>\n",
       "      <td>1956967696</td>\n",
       "      <td>Funeral ceremony...gloomy friday...</td>\n",
       "      <td>negative</td>\n",
       "    </tr>\n",
       "    <tr>\n",
       "      <th>2</th>\n",
       "      <td>1956967789</td>\n",
       "      <td>wants to hang out with friends SOON!</td>\n",
       "      <td>positive</td>\n",
       "    </tr>\n",
       "  </tbody>\n",
       "</table>\n",
       "</div>"
      ],
      "text/plain": [
       "       textID                                         tweet_text sentiment\n",
       "0  1956967666  Layin n bed with a headache  ughhhh...waitin o...  negative\n",
       "1  1956967696                Funeral ceremony...gloomy friday...  negative\n",
       "2  1956967789               wants to hang out with friends SOON!  positive"
      ]
     },
     "execution_count": 7,
     "metadata": {},
     "output_type": "execute_result"
    }
   ],
   "source": [
    "df.head(3)"
   ]
  },
  {
   "cell_type": "markdown",
   "id": "a69012fb-4492-4e41-805d-91f24b5e97b3",
   "metadata": {},
   "source": [
    "## Tokenization and Binary Transformation of Sentiment Values"
   ]
  },
  {
   "cell_type": "code",
   "execution_count": 8,
   "id": "7648e94d-fb24-4b93-908d-cec5c1427261",
   "metadata": {},
   "outputs": [
    {
     "data": {
      "text/html": [
       "<div>\n",
       "<style scoped>\n",
       "    .dataframe tbody tr th:only-of-type {\n",
       "        vertical-align: middle;\n",
       "    }\n",
       "\n",
       "    .dataframe tbody tr th {\n",
       "        vertical-align: top;\n",
       "    }\n",
       "\n",
       "    .dataframe thead th {\n",
       "        text-align: right;\n",
       "    }\n",
       "</style>\n",
       "<table border=\"1\" class=\"dataframe\">\n",
       "  <thead>\n",
       "    <tr style=\"text-align: right;\">\n",
       "      <th></th>\n",
       "      <th>textID</th>\n",
       "      <th>tweet_text</th>\n",
       "      <th>sentiment</th>\n",
       "      <th>tokens</th>\n",
       "      <th>tweet_sentiment</th>\n",
       "    </tr>\n",
       "  </thead>\n",
       "  <tbody>\n",
       "    <tr>\n",
       "      <th>0</th>\n",
       "      <td>1956967666</td>\n",
       "      <td>Layin n bed with a headache  ughhhh...waitin o...</td>\n",
       "      <td>negative</td>\n",
       "      <td>[layin, n, bed, headach, call]</td>\n",
       "      <td>0</td>\n",
       "    </tr>\n",
       "    <tr>\n",
       "      <th>1</th>\n",
       "      <td>1956967696</td>\n",
       "      <td>Funeral ceremony...gloomy friday...</td>\n",
       "      <td>negative</td>\n",
       "      <td>[funer, friday]</td>\n",
       "      <td>0</td>\n",
       "    </tr>\n",
       "    <tr>\n",
       "      <th>2</th>\n",
       "      <td>1956967789</td>\n",
       "      <td>wants to hang out with friends SOON!</td>\n",
       "      <td>positive</td>\n",
       "      <td>[want, hang, friend, soon]</td>\n",
       "      <td>1</td>\n",
       "    </tr>\n",
       "    <tr>\n",
       "      <th>3</th>\n",
       "      <td>1956968477</td>\n",
       "      <td>Re-pinging @ghostridah14: why didn't you go to...</td>\n",
       "      <td>negative</td>\n",
       "      <td>[twitterus, not, go, prom, bf, not, like, friend]</td>\n",
       "      <td>0</td>\n",
       "    </tr>\n",
       "    <tr>\n",
       "      <th>4</th>\n",
       "      <td>1956968636</td>\n",
       "      <td>Hmmm. http://www.djhero.com/ is down</td>\n",
       "      <td>negative</td>\n",
       "      <td>[hmm]</td>\n",
       "      <td>0</td>\n",
       "    </tr>\n",
       "  </tbody>\n",
       "</table>\n",
       "</div>"
      ],
      "text/plain": [
       "       textID                                         tweet_text sentiment  \\\n",
       "0  1956967666  Layin n bed with a headache  ughhhh...waitin o...  negative   \n",
       "1  1956967696                Funeral ceremony...gloomy friday...  negative   \n",
       "2  1956967789               wants to hang out with friends SOON!  positive   \n",
       "3  1956968477  Re-pinging @ghostridah14: why didn't you go to...  negative   \n",
       "4  1956968636               Hmmm. http://www.djhero.com/ is down  negative   \n",
       "\n",
       "                                              tokens  tweet_sentiment  \n",
       "0                     [layin, n, bed, headach, call]                0  \n",
       "1                                    [funer, friday]                0  \n",
       "2                         [want, hang, friend, soon]                1  \n",
       "3  [twitterus, not, go, prom, bf, not, like, friend]                0  \n",
       "4                                              [hmm]                0  "
      ]
     },
     "execution_count": 8,
     "metadata": {},
     "output_type": "execute_result"
    }
   ],
   "source": [
    "df['tokens'] = df['tweet_text'].apply(process_tweet)\n",
    "df['tweet_sentiment'] = df['sentiment'].apply(lambda i:1 \n",
    "                                             if i== 'positive' else 0)\n",
    "\n",
    "df.head()"
   ]
  },
  {
   "cell_type": "code",
   "execution_count": 9,
   "id": "949f3705-174d-4e85-9820-c85e580bcdd1",
   "metadata": {},
   "outputs": [
    {
     "data": {
      "text/html": [
       "<div>\n",
       "<style scoped>\n",
       "    .dataframe tbody tr th:only-of-type {\n",
       "        vertical-align: middle;\n",
       "    }\n",
       "\n",
       "    .dataframe tbody tr th {\n",
       "        vertical-align: top;\n",
       "    }\n",
       "\n",
       "    .dataframe thead th {\n",
       "        text-align: right;\n",
       "    }\n",
       "</style>\n",
       "<table border=\"1\" class=\"dataframe\">\n",
       "  <thead>\n",
       "    <tr style=\"text-align: right;\">\n",
       "      <th></th>\n",
       "      <th>textID</th>\n",
       "      <th>tweet_text</th>\n",
       "      <th>sentiment</th>\n",
       "      <th>tokens</th>\n",
       "      <th>tweet_sentiment</th>\n",
       "    </tr>\n",
       "  </thead>\n",
       "  <tbody>\n",
       "    <tr>\n",
       "      <th>0</th>\n",
       "      <td>1956967666</td>\n",
       "      <td>Layin n bed with a headache  ughhhh...waitin o...</td>\n",
       "      <td>negative</td>\n",
       "      <td>[layin, n, bed, headach, call]</td>\n",
       "      <td>0</td>\n",
       "    </tr>\n",
       "    <tr>\n",
       "      <th>1</th>\n",
       "      <td>1956967696</td>\n",
       "      <td>Funeral ceremony...gloomy friday...</td>\n",
       "      <td>negative</td>\n",
       "      <td>[funer, friday]</td>\n",
       "      <td>0</td>\n",
       "    </tr>\n",
       "    <tr>\n",
       "      <th>2</th>\n",
       "      <td>1956967789</td>\n",
       "      <td>wants to hang out with friends SOON!</td>\n",
       "      <td>positive</td>\n",
       "      <td>[want, hang, friend, soon]</td>\n",
       "      <td>1</td>\n",
       "    </tr>\n",
       "  </tbody>\n",
       "</table>\n",
       "</div>"
      ],
      "text/plain": [
       "       textID                                         tweet_text sentiment  \\\n",
       "0  1956967666  Layin n bed with a headache  ughhhh...waitin o...  negative   \n",
       "1  1956967696                Funeral ceremony...gloomy friday...  negative   \n",
       "2  1956967789               wants to hang out with friends SOON!  positive   \n",
       "\n",
       "                           tokens  tweet_sentiment  \n",
       "0  [layin, n, bed, headach, call]                0  \n",
       "1                 [funer, friday]                0  \n",
       "2      [want, hang, friend, soon]                1  "
      ]
     },
     "execution_count": 9,
     "metadata": {},
     "output_type": "execute_result"
    }
   ],
   "source": [
    "df.head(3)"
   ]
  },
  {
   "cell_type": "code",
   "execution_count": 10,
   "id": "f167dd97-2bb0-4fd9-a3a9-f21aac0962ee",
   "metadata": {},
   "outputs": [],
   "source": [
    "X = df['tokens'].tolist()\n",
    "y = df['tweet_sentiment'].tolist()"
   ]
  },
  {
   "cell_type": "markdown",
   "id": "a10fbbf4-5929-46bb-9297-9904d085068d",
   "metadata": {},
   "source": [
    "We extracted tokens and sentiment values for our machine learning model\n"
   ]
  },
  {
   "cell_type": "markdown",
   "id": "b49f19bc-94df-486f-ba07-82a7909cc0cf",
   "metadata": {},
   "source": [
    "Building TF-IDF functions which vectirizes our tweets"
   ]
  },
  {
   "cell_type": "code",
   "execution_count": 11,
   "id": "9ae25b5d-4ff4-4831-8afa-203b7d1d05f5",
   "metadata": {},
   "outputs": [],
   "source": [
    "def build_freqs(tweet_list, sentiment_list):\n",
    "  freqs = {}\n",
    "  for tweet, sentiment in zip(tweet_list, sentiment_list):\n",
    "    for word in tweet:\n",
    "      pair = (word, sentiment)\n",
    "      if pair in freqs:\n",
    "        freqs[pair] += 1\n",
    "      else:\n",
    "        freqs[pair] = 1\n",
    "  return freqs"
   ]
  },
  {
   "cell_type": "code",
   "execution_count": 12,
   "id": "a9e9a20a-e89e-4f38-be25-3c82a2c883b1",
   "metadata": {},
   "outputs": [],
   "source": [
    "def fit_tfidf(tweet_corpus):\n",
    "  tf_vect = TfidfVectorizer(preprocessor = lambda x : x,\n",
    "                            tokenizer  = lambda x : x)\n",
    "  tf_vect.fit(tweet_corpus)\n",
    "  return tf_vect"
   ]
  },
  {
   "cell_type": "markdown",
   "id": "5f195db9-0ecf-4087-991b-69379c7eae63",
   "metadata": {},
   "source": [
    "Partitioning of the data for train and test "
   ]
  },
  {
   "cell_type": "code",
   "execution_count": 13,
   "id": "136c76f1-62be-4e64-b999-94ad9059e911",
   "metadata": {},
   "outputs": [],
   "source": [
    "X_train, X_test, y_train, y_test = train_test_split(X, y,\n",
    "                                                    random_state = 0,\n",
    "                                                    train_size = 0.80)"
   ]
  },
  {
   "cell_type": "markdown",
   "id": "88d56361-c797-4b6a-9747-c1b7feb6e147",
   "metadata": {},
   "source": [
    "## Logistic Regression Model"
   ]
  },
  {
   "cell_type": "code",
   "execution_count": 14,
   "id": "6630534e-1aef-4aaa-a394-6381ec0cc874",
   "metadata": {},
   "outputs": [],
   "source": [
    "def fit_lr(X_train, y_train):\n",
    "  model = LogisticRegression()\n",
    "  model.fit(X_train, y_train)\n",
    "  return model"
   ]
  },
  {
   "cell_type": "code",
   "execution_count": 15,
   "id": "3a89d799-518a-46fc-ad46-c088f2e2de47",
   "metadata": {},
   "outputs": [
    {
     "name": "stderr",
     "output_type": "stream",
     "text": [
      "C:\\Users\\yakup\\anaconda3\\lib\\site-packages\\sklearn\\feature_extraction\\text.py:516: UserWarning: The parameter 'token_pattern' will not be used since 'tokenizer' is not None'\n",
      "  warnings.warn(\n"
     ]
    }
   ],
   "source": [
    "tf = fit_tfidf(X_train)\n",
    "X_train_tf = tf.transform(X_train)\n",
    "X_test_tf = tf.transform(X_test)"
   ]
  },
  {
   "cell_type": "code",
   "execution_count": 16,
   "id": "800cd545-b8df-4e53-b39f-25082c4851f1",
   "metadata": {},
   "outputs": [],
   "source": [
    "model_lr_tf = fit_lr(X_train_tf, y_train)"
   ]
  },
  {
   "cell_type": "markdown",
   "id": "0c28a481-922b-4c85-980b-96090a07bea9",
   "metadata": {},
   "source": [
    "# Accuracy of the Model"
   ]
  },
  {
   "cell_type": "code",
   "execution_count": 17,
   "id": "aa522290-4157-4d69-b026-0f8c011917ea",
   "metadata": {},
   "outputs": [],
   "source": [
    "y_pred_lr_tf = model_lr_tf.predict(X_test_tf)"
   ]
  },
  {
   "cell_type": "code",
   "execution_count": 18,
   "id": "d3546ffc-43e0-4ef5-ac3f-6232d31020e5",
   "metadata": {},
   "outputs": [
    {
     "data": {
      "text/plain": [
       "0.8830752802989856"
      ]
     },
     "execution_count": 18,
     "metadata": {},
     "output_type": "execute_result"
    }
   ],
   "source": [
    "accuracy_score(y_test, y_pred_lr_tf)"
   ]
  },
  {
   "cell_type": "markdown",
   "id": "49f871f6-7c53-49bd-9f2c-568bc1de9d9e",
   "metadata": {},
   "source": [
    "# Pipiline function of all above "
   ]
  },
  {
   "cell_type": "code",
   "execution_count": 19,
   "id": "28d484d5-c842-4b3e-a3f3-61a28e90d591",
   "metadata": {},
   "outputs": [],
   "source": [
    "def predict_tweet(tweet):\n",
    "  processed_tweet = process_tweet(tweet)#will call the preprocess tweet we defined above\n",
    "  transformed_tweet = tf.transform([processed_tweet])#will vectorize our twett with tf-idf \n",
    "  prediction = model_lr_tf.predict(transformed_tweet)\n",
    "\n",
    "  if prediction == 0:\n",
    "    return 'Prediction sentiment is negative'\n",
    "  else:\n",
    "    return 'Prediction sentiment is positive'"
   ]
  },
  {
   "cell_type": "code",
   "execution_count": 20,
   "id": "91e1eaed-ca78-46af-99eb-34bad3bdca21",
   "metadata": {},
   "outputs": [],
   "source": [
    "your_tweet = ' noooooooooo! I just got the worst news of this year😬'"
   ]
  },
  {
   "cell_type": "code",
   "execution_count": 21,
   "id": "3196f56b-c2f6-4389-a7f7-3d547102916b",
   "metadata": {},
   "outputs": [
    {
     "data": {
      "text/plain": [
       "'Prediction sentiment is negative'"
      ]
     },
     "execution_count": 21,
     "metadata": {},
     "output_type": "execute_result"
    }
   ],
   "source": [
    "predict_tweet(your_tweet)"
   ]
  },
  {
   "cell_type": "code",
   "execution_count": 22,
   "id": "f6589016-d7fa-4599-8117-28e301cf90ce",
   "metadata": {},
   "outputs": [],
   "source": [
    "your_tweet = '@TheEllenShow If only Bradley''s arm was longer. Best photo ever. #oscars😃'"
   ]
  },
  {
   "cell_type": "code",
   "execution_count": 23,
   "id": "e8f6f5e9-509c-4d12-a865-06ac772ef4e9",
   "metadata": {},
   "outputs": [
    {
     "data": {
      "text/plain": [
       "'Prediction sentiment is positive'"
      ]
     },
     "execution_count": 23,
     "metadata": {},
     "output_type": "execute_result"
    }
   ],
   "source": [
    "predict_tweet(your_tweet)"
   ]
  },
  {
   "cell_type": "markdown",
   "id": "85522161-00d7-45c6-94e6-c3d4ba1903d5",
   "metadata": {},
   "source": [
    "Now that the model is trained and is capable of predicting the sentiment values of unseen observations,\n",
    "\n",
    "Now i will write a function to predict the sentiment values when we have an aggregate data like a csv file, or a data frame"
   ]
  },
  {
   "cell_type": "code",
   "execution_count": 24,
   "id": "c92cd0d9-5639-4a6d-a825-714391643f72",
   "metadata": {},
   "outputs": [],
   "source": [
    "def predict_tweet(tweet):\n",
    "  processed_tweet = process_tweet(tweet)\n",
    "  transformed_tweet = tf.transform([processed_tweet])\n",
    "  prediction = model_lr_tf.predict(transformed_tweet)\n",
    "  return prediction"
   ]
  },
  {
   "cell_type": "code",
   "execution_count": 25,
   "id": "fe157dc4-717a-48da-8ab1-3326dd3a3f5d",
   "metadata": {},
   "outputs": [],
   "source": [
    "a = predict_tweet(your_tweet)"
   ]
  },
  {
   "cell_type": "code",
   "execution_count": 26,
   "id": "30c810cc-ac3b-41bb-9a15-8a23217e199f",
   "metadata": {},
   "outputs": [
    {
     "data": {
      "text/plain": [
       "array([1])"
      ]
     },
     "execution_count": 26,
     "metadata": {},
     "output_type": "execute_result"
    }
   ],
   "source": [
    "a"
   ]
  },
  {
   "cell_type": "markdown",
   "id": "630d0975-e371-4c27-a570-c4776cbd1b0c",
   "metadata": {},
   "source": [
    "there are two points here,\n",
    "\n",
    "we need to use a for loop for our function to get to every tweet and implement the predict tweet pipeline\n",
    "\n",
    "also, we need to get rid of the array structure"
   ]
  },
  {
   "cell_type": "code",
   "execution_count": 27,
   "id": "d57c2eb4-f72c-4d17-8676-276faf318136",
   "metadata": {},
   "outputs": [],
   "source": [
    "b = int(a)"
   ]
  },
  {
   "cell_type": "code",
   "execution_count": 28,
   "id": "a69d573f-8e46-4525-a841-190d7cdac3a0",
   "metadata": {},
   "outputs": [
    {
     "data": {
      "text/plain": [
       "1"
      ]
     },
     "execution_count": 28,
     "metadata": {},
     "output_type": "execute_result"
    }
   ],
   "source": [
    "b"
   ]
  },
  {
   "cell_type": "code",
   "execution_count": 29,
   "id": "c1ce8a81-60d4-436b-98b0-33dba1352f16",
   "metadata": {},
   "outputs": [
    {
     "data": {
      "text/plain": [
       "\u001b[1;31mType:\u001b[0m        int\n",
       "\u001b[1;31mString form:\u001b[0m 1\n",
       "\u001b[1;31mDocstring:\u001b[0m  \n",
       "int([x]) -> integer\n",
       "int(x, base=10) -> integer\n",
       "\n",
       "Convert a number or string to an integer, or return 0 if no arguments\n",
       "are given.  If x is a number, return x.__int__().  For floating point\n",
       "numbers, this truncates towards zero.\n",
       "\n",
       "If x is not a number or if base is given, then x must be a string,\n",
       "bytes, or bytearray instance representing an integer literal in the\n",
       "given base.  The literal can be preceded by '+' or '-' and be surrounded\n",
       "by whitespace.  The base defaults to 10.  Valid bases are 0 and 2-36.\n",
       "Base 0 means to interpret the base from the string as an integer literal.\n",
       ">>> int('0b100', base=0)\n",
       "4\n"
      ]
     },
     "metadata": {},
     "output_type": "display_data"
    }
   ],
   "source": [
    "b?"
   ]
  },
  {
   "cell_type": "markdown",
   "id": "7f8b3b30-c9b3-4953-be98-038b9c94fc5b",
   "metadata": {},
   "source": [
    "we can get rid if the array structure of the predict_tweet function this way simply,\n",
    "\n",
    "now let get a bunch of observations for testing"
   ]
  },
  {
   "cell_type": "code",
   "execution_count": 30,
   "id": "db699e05-2cc1-4a65-a9ef-32f1878cf0cf",
   "metadata": {},
   "outputs": [
    {
     "data": {
      "text/html": [
       "<div>\n",
       "<style scoped>\n",
       "    .dataframe tbody tr th:only-of-type {\n",
       "        vertical-align: middle;\n",
       "    }\n",
       "\n",
       "    .dataframe tbody tr th {\n",
       "        vertical-align: top;\n",
       "    }\n",
       "\n",
       "    .dataframe thead th {\n",
       "        text-align: right;\n",
       "    }\n",
       "</style>\n",
       "<table border=\"1\" class=\"dataframe\">\n",
       "  <thead>\n",
       "    <tr style=\"text-align: right;\">\n",
       "      <th></th>\n",
       "      <th>textID</th>\n",
       "      <th>tweet_text</th>\n",
       "      <th>sentiment</th>\n",
       "      <th>tokens</th>\n",
       "      <th>tweet_sentiment</th>\n",
       "    </tr>\n",
       "  </thead>\n",
       "  <tbody>\n",
       "    <tr>\n",
       "      <th>18712</th>\n",
       "      <td>1753904518</td>\n",
       "      <td>@Rtib happy birthday</td>\n",
       "      <td>positive</td>\n",
       "      <td>[twitterus, happi, birthday]</td>\n",
       "      <td>1</td>\n",
       "    </tr>\n",
       "    <tr>\n",
       "      <th>18713</th>\n",
       "      <td>1753904626</td>\n",
       "      <td>@acchanosaurus good luck chan! gue kmrn bawa b...</td>\n",
       "      <td>positive</td>\n",
       "      <td>[twitterus, good, luck, chan, gue, kmrn, bawa,...</td>\n",
       "      <td>1</td>\n",
       "    </tr>\n",
       "    <tr>\n",
       "      <th>18714</th>\n",
       "      <td>1753904668</td>\n",
       "      <td>good morning/midday nation!  FORMULA ONE IN ON...</td>\n",
       "      <td>positive</td>\n",
       "      <td>[good, nation, formula, one, one, hour]</td>\n",
       "      <td>1</td>\n",
       "    </tr>\n",
       "    <tr>\n",
       "      <th>18715</th>\n",
       "      <td>1753904674</td>\n",
       "      <td>to my pretty lady @nikkiwoods HAPPY MOTHER'S D...</td>\n",
       "      <td>positive</td>\n",
       "      <td>[pretti, ladi, twitterus, happi, mother, day, ...</td>\n",
       "      <td>1</td>\n",
       "    </tr>\n",
       "    <tr>\n",
       "      <th>18716</th>\n",
       "      <td>1753904868</td>\n",
       "      <td>@givemestrength bloody Feds, they lost last st...</td>\n",
       "      <td>negative</td>\n",
       "      <td>[twitterus, bloodi, fed, lost, last, statement...</td>\n",
       "      <td>0</td>\n",
       "    </tr>\n",
       "    <tr>\n",
       "      <th>18717</th>\n",
       "      <td>1753904911</td>\n",
       "      <td>@prinsezha awesome. Wha'dya get her?</td>\n",
       "      <td>positive</td>\n",
       "      <td>[twitterus, awesom, get]</td>\n",
       "      <td>1</td>\n",
       "    </tr>\n",
       "    <tr>\n",
       "      <th>18718</th>\n",
       "      <td>1753904912</td>\n",
       "      <td>Sitting in Gatwick- going home for a week! can...</td>\n",
       "      <td>positive</td>\n",
       "      <td>[sit, go, home, week, not, wait, see, famili]</td>\n",
       "      <td>1</td>\n",
       "    </tr>\n",
       "    <tr>\n",
       "      <th>18719</th>\n",
       "      <td>1753904919</td>\n",
       "      <td>@maynaseric good luck with your auction</td>\n",
       "      <td>positive</td>\n",
       "      <td>[twitterus, good, luck, auction]</td>\n",
       "      <td>1</td>\n",
       "    </tr>\n",
       "    <tr>\n",
       "      <th>18720</th>\n",
       "      <td>1753905153</td>\n",
       "      <td>going to watch boy in the striped pj's hope i ...</td>\n",
       "      <td>positive</td>\n",
       "      <td>[go, watch, boy, stripe, pj, hope, not, cri]</td>\n",
       "      <td>1</td>\n",
       "    </tr>\n",
       "    <tr>\n",
       "      <th>18721</th>\n",
       "      <td>1753918809</td>\n",
       "      <td>gave the bikes a thorough wash, degrease it an...</td>\n",
       "      <td>positive</td>\n",
       "      <td>[gave, bike, thorough, wash, degreas, greas, t...</td>\n",
       "      <td>1</td>\n",
       "    </tr>\n",
       "    <tr>\n",
       "      <th>18722</th>\n",
       "      <td>1753918818</td>\n",
       "      <td>had SUCH and AMAZING time last night, McFly we...</td>\n",
       "      <td>positive</td>\n",
       "      <td>[amaz, time, last, night, mcfli, incred]</td>\n",
       "      <td>1</td>\n",
       "    </tr>\n",
       "    <tr>\n",
       "      <th>18723</th>\n",
       "      <td>1753918881</td>\n",
       "      <td>@jasimmo Ooo showing of your French skills!! l...</td>\n",
       "      <td>positive</td>\n",
       "      <td>[twitterus, oo, show, french, skill, lol, thin...</td>\n",
       "      <td>1</td>\n",
       "    </tr>\n",
       "    <tr>\n",
       "      <th>18724</th>\n",
       "      <td>1753918900</td>\n",
       "      <td>Succesfully following Tayla!!</td>\n",
       "      <td>positive</td>\n",
       "      <td>[succes, follow, tayla]</td>\n",
       "      <td>1</td>\n",
       "    </tr>\n",
       "    <tr>\n",
       "      <th>18725</th>\n",
       "      <td>1753919001</td>\n",
       "      <td>Happy Mothers Day  All my love</td>\n",
       "      <td>positive</td>\n",
       "      <td>[happi, mother, day, love]</td>\n",
       "      <td>1</td>\n",
       "    </tr>\n",
       "    <tr>\n",
       "      <th>18726</th>\n",
       "      <td>1753919005</td>\n",
       "      <td>Happy Mother's Day to all the mommies out ther...</td>\n",
       "      <td>positive</td>\n",
       "      <td>[happi, mother, day, mommi, woman, man, long, ...</td>\n",
       "      <td>1</td>\n",
       "    </tr>\n",
       "  </tbody>\n",
       "</table>\n",
       "</div>"
      ],
      "text/plain": [
       "           textID                                         tweet_text  \\\n",
       "18712  1753904518                               @Rtib happy birthday   \n",
       "18713  1753904626  @acchanosaurus good luck chan! gue kmrn bawa b...   \n",
       "18714  1753904668  good morning/midday nation!  FORMULA ONE IN ON...   \n",
       "18715  1753904674  to my pretty lady @nikkiwoods HAPPY MOTHER'S D...   \n",
       "18716  1753904868  @givemestrength bloody Feds, they lost last st...   \n",
       "18717  1753904911               @prinsezha awesome. Wha'dya get her?   \n",
       "18718  1753904912  Sitting in Gatwick- going home for a week! can...   \n",
       "18719  1753904919            @maynaseric good luck with your auction   \n",
       "18720  1753905153  going to watch boy in the striped pj's hope i ...   \n",
       "18721  1753918809  gave the bikes a thorough wash, degrease it an...   \n",
       "18722  1753918818  had SUCH and AMAZING time last night, McFly we...   \n",
       "18723  1753918881  @jasimmo Ooo showing of your French skills!! l...   \n",
       "18724  1753918900                      Succesfully following Tayla!!   \n",
       "18725  1753919001                     Happy Mothers Day  All my love   \n",
       "18726  1753919005  Happy Mother's Day to all the mommies out ther...   \n",
       "\n",
       "      sentiment                                             tokens  \\\n",
       "18712  positive                       [twitterus, happi, birthday]   \n",
       "18713  positive  [twitterus, good, luck, chan, gue, kmrn, bawa,...   \n",
       "18714  positive            [good, nation, formula, one, one, hour]   \n",
       "18715  positive  [pretti, ladi, twitterus, happi, mother, day, ...   \n",
       "18716  negative  [twitterus, bloodi, fed, lost, last, statement...   \n",
       "18717  positive                           [twitterus, awesom, get]   \n",
       "18718  positive      [sit, go, home, week, not, wait, see, famili]   \n",
       "18719  positive                   [twitterus, good, luck, auction]   \n",
       "18720  positive       [go, watch, boy, stripe, pj, hope, not, cri]   \n",
       "18721  positive  [gave, bike, thorough, wash, degreas, greas, t...   \n",
       "18722  positive           [amaz, time, last, night, mcfli, incred]   \n",
       "18723  positive  [twitterus, oo, show, french, skill, lol, thin...   \n",
       "18724  positive                            [succes, follow, tayla]   \n",
       "18725  positive                         [happi, mother, day, love]   \n",
       "18726  positive  [happi, mother, day, mommi, woman, man, long, ...   \n",
       "\n",
       "       tweet_sentiment  \n",
       "18712                1  \n",
       "18713                1  \n",
       "18714                1  \n",
       "18715                1  \n",
       "18716                0  \n",
       "18717                1  \n",
       "18718                1  \n",
       "18719                1  \n",
       "18720                1  \n",
       "18721                1  \n",
       "18722                1  \n",
       "18723                1  \n",
       "18724                1  \n",
       "18725                1  \n",
       "18726                1  "
      ]
     },
     "execution_count": 30,
     "metadata": {},
     "output_type": "execute_result"
    }
   ],
   "source": [
    "df.tail(15)"
   ]
  },
  {
   "cell_type": "code",
   "execution_count": 31,
   "id": "3e4b4b05-274a-49c4-abfc-0427b6bf366a",
   "metadata": {},
   "outputs": [
    {
     "data": {
      "text/html": [
       "<div>\n",
       "<style scoped>\n",
       "    .dataframe tbody tr th:only-of-type {\n",
       "        vertical-align: middle;\n",
       "    }\n",
       "\n",
       "    .dataframe tbody tr th {\n",
       "        vertical-align: top;\n",
       "    }\n",
       "\n",
       "    .dataframe thead th {\n",
       "        text-align: right;\n",
       "    }\n",
       "</style>\n",
       "<table border=\"1\" class=\"dataframe\">\n",
       "  <thead>\n",
       "    <tr style=\"text-align: right;\">\n",
       "      <th></th>\n",
       "      <th>tweet_text</th>\n",
       "    </tr>\n",
       "  </thead>\n",
       "  <tbody>\n",
       "    <tr>\n",
       "      <th>18172</th>\n",
       "      <td>Good morning Tweeple of the sun! What you all ...</td>\n",
       "    </tr>\n",
       "    <tr>\n",
       "      <th>18173</th>\n",
       "      <td>@TheSimsHub I'm going to kill the person who s...</td>\n",
       "    </tr>\n",
       "    <tr>\n",
       "      <th>18174</th>\n",
       "      <td>Happy Mother's Day!</td>\n",
       "    </tr>\n",
       "    <tr>\n",
       "      <th>18175</th>\n",
       "      <td>Good Morning Everyone</td>\n",
       "    </tr>\n",
       "  </tbody>\n",
       "</table>\n",
       "</div>"
      ],
      "text/plain": [
       "                                              tweet_text\n",
       "18172  Good morning Tweeple of the sun! What you all ...\n",
       "18173  @TheSimsHub I'm going to kill the person who s...\n",
       "18174                                Happy Mother's Day!\n",
       "18175                              Good Morning Everyone"
      ]
     },
     "execution_count": 31,
     "metadata": {},
     "output_type": "execute_result"
    }
   ],
   "source": [
    "df.iloc[18172:18176, 1:2]"
   ]
  },
  {
   "cell_type": "code",
   "execution_count": 32,
   "id": "7cbcf39a-d7cc-4add-ba66-d3e7b17c46af",
   "metadata": {},
   "outputs": [],
   "source": [
    "test = df.iloc[18172:18176, 1:2]"
   ]
  },
  {
   "cell_type": "code",
   "execution_count": 33,
   "id": "3e7691af-7b60-4222-8f44-bec26fc92f81",
   "metadata": {},
   "outputs": [
    {
     "data": {
      "text/html": [
       "<div>\n",
       "<style scoped>\n",
       "    .dataframe tbody tr th:only-of-type {\n",
       "        vertical-align: middle;\n",
       "    }\n",
       "\n",
       "    .dataframe tbody tr th {\n",
       "        vertical-align: top;\n",
       "    }\n",
       "\n",
       "    .dataframe thead th {\n",
       "        text-align: right;\n",
       "    }\n",
       "</style>\n",
       "<table border=\"1\" class=\"dataframe\">\n",
       "  <thead>\n",
       "    <tr style=\"text-align: right;\">\n",
       "      <th></th>\n",
       "      <th>tweet_text</th>\n",
       "    </tr>\n",
       "  </thead>\n",
       "  <tbody>\n",
       "    <tr>\n",
       "      <th>18172</th>\n",
       "      <td>Good morning Tweeple of the sun! What you all ...</td>\n",
       "    </tr>\n",
       "    <tr>\n",
       "      <th>18173</th>\n",
       "      <td>@TheSimsHub I'm going to kill the person who s...</td>\n",
       "    </tr>\n",
       "    <tr>\n",
       "      <th>18174</th>\n",
       "      <td>Happy Mother's Day!</td>\n",
       "    </tr>\n",
       "    <tr>\n",
       "      <th>18175</th>\n",
       "      <td>Good Morning Everyone</td>\n",
       "    </tr>\n",
       "  </tbody>\n",
       "</table>\n",
       "</div>"
      ],
      "text/plain": [
       "                                              tweet_text\n",
       "18172  Good morning Tweeple of the sun! What you all ...\n",
       "18173  @TheSimsHub I'm going to kill the person who s...\n",
       "18174                                Happy Mother's Day!\n",
       "18175                              Good Morning Everyone"
      ]
     },
     "execution_count": 33,
     "metadata": {},
     "output_type": "execute_result"
    }
   ],
   "source": [
    "test"
   ]
  },
  {
   "cell_type": "markdown",
   "id": "a6c84652-54b2-4a06-86a9-55523209becb",
   "metadata": {},
   "source": [
    "our relevant function, which is also a pipeline for aggregate data, which will add the sentiment scores on a new column"
   ]
  },
  {
   "cell_type": "code",
   "execution_count": 34,
   "id": "7df7ab74-a9dc-43a0-8cd4-8cebbb745a51",
   "metadata": {},
   "outputs": [],
   "source": [
    "l = []\n",
    "def sentiment_score(test):\n",
    "    for i in test['tweet_text']:\n",
    "        l.append(int(predict_tweet(i)))\n",
    "    test['score'] = l\n",
    "         "
   ]
  },
  {
   "cell_type": "code",
   "execution_count": 35,
   "id": "92b6d5e4-9e70-467d-a912-1e8fc9a7720c",
   "metadata": {},
   "outputs": [],
   "source": [
    "sentiment_score(test)"
   ]
  },
  {
   "cell_type": "code",
   "execution_count": 36,
   "id": "b33f453c-db5f-4510-8873-979eae9c60cc",
   "metadata": {},
   "outputs": [
    {
     "data": {
      "text/plain": [
       "[1, 0, 1, 1]"
      ]
     },
     "execution_count": 36,
     "metadata": {},
     "output_type": "execute_result"
    }
   ],
   "source": [
    "l"
   ]
  },
  {
   "cell_type": "code",
   "execution_count": 37,
   "id": "3bb0ddcc-14ff-4607-b5b4-0ba99f427932",
   "metadata": {},
   "outputs": [
    {
     "data": {
      "text/html": [
       "<div>\n",
       "<style scoped>\n",
       "    .dataframe tbody tr th:only-of-type {\n",
       "        vertical-align: middle;\n",
       "    }\n",
       "\n",
       "    .dataframe tbody tr th {\n",
       "        vertical-align: top;\n",
       "    }\n",
       "\n",
       "    .dataframe thead th {\n",
       "        text-align: right;\n",
       "    }\n",
       "</style>\n",
       "<table border=\"1\" class=\"dataframe\">\n",
       "  <thead>\n",
       "    <tr style=\"text-align: right;\">\n",
       "      <th></th>\n",
       "      <th>tweet_text</th>\n",
       "      <th>score</th>\n",
       "    </tr>\n",
       "  </thead>\n",
       "  <tbody>\n",
       "    <tr>\n",
       "      <th>18172</th>\n",
       "      <td>Good morning Tweeple of the sun! What you all ...</td>\n",
       "      <td>1</td>\n",
       "    </tr>\n",
       "    <tr>\n",
       "      <th>18173</th>\n",
       "      <td>@TheSimsHub I'm going to kill the person who s...</td>\n",
       "      <td>0</td>\n",
       "    </tr>\n",
       "    <tr>\n",
       "      <th>18174</th>\n",
       "      <td>Happy Mother's Day!</td>\n",
       "      <td>1</td>\n",
       "    </tr>\n",
       "    <tr>\n",
       "      <th>18175</th>\n",
       "      <td>Good Morning Everyone</td>\n",
       "      <td>1</td>\n",
       "    </tr>\n",
       "  </tbody>\n",
       "</table>\n",
       "</div>"
      ],
      "text/plain": [
       "                                              tweet_text  score\n",
       "18172  Good morning Tweeple of the sun! What you all ...      1\n",
       "18173  @TheSimsHub I'm going to kill the person who s...      0\n",
       "18174                                Happy Mother's Day!      1\n",
       "18175                              Good Morning Everyone      1"
      ]
     },
     "execution_count": 37,
     "metadata": {},
     "output_type": "execute_result"
    }
   ],
   "source": [
    "test"
   ]
  },
  {
   "cell_type": "markdown",
   "id": "3169ff80-c963-4f31-815d-720d5ad43768",
   "metadata": {},
   "source": [
    "Now lets create some data which was not in the training, for testing our model:"
   ]
  },
  {
   "cell_type": "code",
   "execution_count": 38,
   "id": "df5033c1-8a7b-4ed8-a5ec-05c384abe24f",
   "metadata": {},
   "outputs": [],
   "source": [
    "test2 ={'tweet_text':[' not only good but the best in town','## this was a bad idea from the beginng @you','this movie is sooooooooo gloomy','what a splendid dayyyyyyy!!!!!!']}"
   ]
  },
  {
   "cell_type": "code",
   "execution_count": 39,
   "id": "9dd89e17-9b32-45af-9ad8-745847e9f3fc",
   "metadata": {},
   "outputs": [],
   "source": [
    "test2 = pd.DataFrame(test2) "
   ]
  },
  {
   "cell_type": "code",
   "execution_count": 85,
   "id": "72cc5150-d117-4b98-9b8d-f98ab5976833",
   "metadata": {
    "collapsed": true,
    "jupyter": {
     "outputs_hidden": true
    },
    "tags": []
   },
   "outputs": [
    {
     "data": {
      "text/plain": [
       "\u001b[1;31mType:\u001b[0m        DataFrame\n",
       "\u001b[1;31mString form:\u001b[0m\n",
       "   tweet\n",
       "0  Karan\n",
       "1  Rohit\n",
       "2  Sahil\n",
       "3  Aryan\n",
       "\u001b[1;31mLength:\u001b[0m      4\n",
       "\u001b[1;31mFile:\u001b[0m        c:\\users\\yakup\\anaconda3\\lib\\site-packages\\pandas\\core\\frame.py\n",
       "\u001b[1;31mDocstring:\u001b[0m  \n",
       "Two-dimensional, size-mutable, potentially heterogeneous tabular data.\n",
       "\n",
       "Data structure also contains labeled axes (rows and columns).\n",
       "Arithmetic operations align on both row and column labels. Can be\n",
       "thought of as a dict-like container for Series objects. The primary\n",
       "pandas data structure.\n",
       "\n",
       "Parameters\n",
       "----------\n",
       "data : ndarray (structured or homogeneous), Iterable, dict, or DataFrame\n",
       "    Dict can contain Series, arrays, constants, dataclass or list-like objects. If\n",
       "    data is a dict, column order follows insertion-order.\n",
       "\n",
       "    .. versionchanged:: 0.25.0\n",
       "       If data is a list of dicts, column order follows insertion-order.\n",
       "\n",
       "index : Index or array-like\n",
       "    Index to use for resulting frame. Will default to RangeIndex if\n",
       "    no indexing information part of input data and no index provided.\n",
       "columns : Index or array-like\n",
       "    Column labels to use for resulting frame when data does not have them,\n",
       "    defaulting to RangeIndex(0, 1, 2, ..., n). If data contains column labels,\n",
       "    will perform column selection instead.\n",
       "dtype : dtype, default None\n",
       "    Data type to force. Only a single dtype is allowed. If None, infer.\n",
       "copy : bool or None, default None\n",
       "    Copy data from inputs.\n",
       "    For dict data, the default of None behaves like ``copy=True``.  For DataFrame\n",
       "    or 2d ndarray input, the default of None behaves like ``copy=False``.\n",
       "\n",
       "    .. versionchanged:: 1.3.0\n",
       "\n",
       "See Also\n",
       "--------\n",
       "DataFrame.from_records : Constructor from tuples, also record arrays.\n",
       "DataFrame.from_dict : From dicts of Series, arrays, or dicts.\n",
       "read_csv : Read a comma-separated values (csv) file into DataFrame.\n",
       "read_table : Read general delimited file into DataFrame.\n",
       "read_clipboard : Read text from clipboard into DataFrame.\n",
       "\n",
       "Examples\n",
       "--------\n",
       "Constructing DataFrame from a dictionary.\n",
       "\n",
       ">>> d = {'col1': [1, 2], 'col2': [3, 4]}\n",
       ">>> df = pd.DataFrame(data=d)\n",
       ">>> df\n",
       "   col1  col2\n",
       "0     1     3\n",
       "1     2     4\n",
       "\n",
       "Notice that the inferred dtype is int64.\n",
       "\n",
       ">>> df.dtypes\n",
       "col1    int64\n",
       "col2    int64\n",
       "dtype: object\n",
       "\n",
       "To enforce a single dtype:\n",
       "\n",
       ">>> df = pd.DataFrame(data=d, dtype=np.int8)\n",
       ">>> df.dtypes\n",
       "col1    int8\n",
       "col2    int8\n",
       "dtype: object\n",
       "\n",
       "Constructing DataFrame from numpy ndarray:\n",
       "\n",
       ">>> df2 = pd.DataFrame(np.array([[1, 2, 3], [4, 5, 6], [7, 8, 9]]),\n",
       "...                    columns=['a', 'b', 'c'])\n",
       ">>> df2\n",
       "   a  b  c\n",
       "0  1  2  3\n",
       "1  4  5  6\n",
       "2  7  8  9\n",
       "\n",
       "Constructing DataFrame from a numpy ndarray that has labeled columns:\n",
       "\n",
       ">>> data = np.array([(1, 2, 3), (4, 5, 6), (7, 8, 9)],\n",
       "...                 dtype=[(\"a\", \"i4\"), (\"b\", \"i4\"), (\"c\", \"i4\")])\n",
       ">>> df3 = pd.DataFrame(data, columns=['c', 'a'])\n",
       "...\n",
       ">>> df3\n",
       "   c  a\n",
       "0  3  1\n",
       "1  6  4\n",
       "2  9  7\n",
       "\n",
       "Constructing DataFrame from dataclass:\n",
       "\n",
       ">>> from dataclasses import make_dataclass\n",
       ">>> Point = make_dataclass(\"Point\", [(\"x\", int), (\"y\", int)])\n",
       ">>> pd.DataFrame([Point(0, 0), Point(0, 3), Point(2, 3)])\n",
       "   x  y\n",
       "0  0  0\n",
       "1  0  3\n",
       "2  2  3\n"
      ]
     },
     "metadata": {},
     "output_type": "display_data"
    }
   ],
   "source": [
    "test2?"
   ]
  },
  {
   "cell_type": "code",
   "execution_count": 40,
   "id": "8f9e86e7-96ab-43d6-8823-10b1797edd83",
   "metadata": {},
   "outputs": [
    {
     "data": {
      "text/html": [
       "<div>\n",
       "<style scoped>\n",
       "    .dataframe tbody tr th:only-of-type {\n",
       "        vertical-align: middle;\n",
       "    }\n",
       "\n",
       "    .dataframe tbody tr th {\n",
       "        vertical-align: top;\n",
       "    }\n",
       "\n",
       "    .dataframe thead th {\n",
       "        text-align: right;\n",
       "    }\n",
       "</style>\n",
       "<table border=\"1\" class=\"dataframe\">\n",
       "  <thead>\n",
       "    <tr style=\"text-align: right;\">\n",
       "      <th></th>\n",
       "      <th>tweet_text</th>\n",
       "    </tr>\n",
       "  </thead>\n",
       "  <tbody>\n",
       "    <tr>\n",
       "      <th>0</th>\n",
       "      <td>not only good but the best in town</td>\n",
       "    </tr>\n",
       "    <tr>\n",
       "      <th>1</th>\n",
       "      <td>## this was a bad idea from the beginng @you</td>\n",
       "    </tr>\n",
       "    <tr>\n",
       "      <th>2</th>\n",
       "      <td>this movie is sooooooooo gloomy</td>\n",
       "    </tr>\n",
       "    <tr>\n",
       "      <th>3</th>\n",
       "      <td>what a splendid dayyyyyyy!!!!!!</td>\n",
       "    </tr>\n",
       "  </tbody>\n",
       "</table>\n",
       "</div>"
      ],
      "text/plain": [
       "                                     tweet_text\n",
       "0            not only good but the best in town\n",
       "1  ## this was a bad idea from the beginng @you\n",
       "2               this movie is sooooooooo gloomy\n",
       "3               what a splendid dayyyyyyy!!!!!!"
      ]
     },
     "execution_count": 40,
     "metadata": {},
     "output_type": "execute_result"
    }
   ],
   "source": [
    "test2"
   ]
  },
  {
   "cell_type": "code",
   "execution_count": 41,
   "id": "ac6b63d0-467e-4839-99f0-b8f857b883e3",
   "metadata": {},
   "outputs": [],
   "source": [
    "l = []\n",
    "def sentiment_score(test2):\n",
    "    for i in test2['tweet_text']:\n",
    "        l.append(int(predict_tweet(i)))\n",
    "    test2['score'] = l\n",
    "         "
   ]
  },
  {
   "cell_type": "code",
   "execution_count": 42,
   "id": "b2bdf944-b559-474c-80ce-7dcb2ebaeae6",
   "metadata": {},
   "outputs": [],
   "source": [
    "sentiment_score(test2)"
   ]
  },
  {
   "cell_type": "code",
   "execution_count": 43,
   "id": "a9f3ceb7-1c6a-442f-b43f-b40094110a51",
   "metadata": {},
   "outputs": [
    {
     "data": {
      "text/html": [
       "<div>\n",
       "<style scoped>\n",
       "    .dataframe tbody tr th:only-of-type {\n",
       "        vertical-align: middle;\n",
       "    }\n",
       "\n",
       "    .dataframe tbody tr th {\n",
       "        vertical-align: top;\n",
       "    }\n",
       "\n",
       "    .dataframe thead th {\n",
       "        text-align: right;\n",
       "    }\n",
       "</style>\n",
       "<table border=\"1\" class=\"dataframe\">\n",
       "  <thead>\n",
       "    <tr style=\"text-align: right;\">\n",
       "      <th></th>\n",
       "      <th>tweet_text</th>\n",
       "      <th>score</th>\n",
       "    </tr>\n",
       "  </thead>\n",
       "  <tbody>\n",
       "    <tr>\n",
       "      <th>0</th>\n",
       "      <td>not only good but the best in town</td>\n",
       "      <td>1</td>\n",
       "    </tr>\n",
       "    <tr>\n",
       "      <th>1</th>\n",
       "      <td>## this was a bad idea from the beginng @you</td>\n",
       "      <td>0</td>\n",
       "    </tr>\n",
       "    <tr>\n",
       "      <th>2</th>\n",
       "      <td>this movie is sooooooooo gloomy</td>\n",
       "      <td>0</td>\n",
       "    </tr>\n",
       "    <tr>\n",
       "      <th>3</th>\n",
       "      <td>what a splendid dayyyyyyy!!!!!!</td>\n",
       "      <td>1</td>\n",
       "    </tr>\n",
       "  </tbody>\n",
       "</table>\n",
       "</div>"
      ],
      "text/plain": [
       "                                     tweet_text  score\n",
       "0            not only good but the best in town      1\n",
       "1  ## this was a bad idea from the beginng @you      0\n",
       "2               this movie is sooooooooo gloomy      0\n",
       "3               what a splendid dayyyyyyy!!!!!!      1"
      ]
     },
     "execution_count": 43,
     "metadata": {},
     "output_type": "execute_result"
    }
   ],
   "source": [
    "test2"
   ]
  },
  {
   "cell_type": "markdown",
   "id": "a073aa54-a741-4f78-ac17-e88415da82ea",
   "metadata": {},
   "source": [
    "However, I want to mention a situation about the data. In some cases, the data which we used for training does not produce the results we wish as the vectorization process combined with the context of the tokens may result in unforeseen consequences. For example, when we think of the word sunny, we would expect it to have a positive sentiment,lets chech:"
   ]
  },
  {
   "cell_type": "code",
   "execution_count": 47,
   "id": "b9d49bac-3df8-4360-ac3c-96e9ae4e3868",
   "metadata": {},
   "outputs": [
    {
     "data": {
      "text/plain": [
       "array([0])"
      ]
     },
     "execution_count": 47,
     "metadata": {},
     "output_type": "execute_result"
    }
   ],
   "source": [
    "predict_tweet('sunny')"
   ]
  },
  {
   "cell_type": "markdown",
   "id": "9ded874a-610a-4c5f-a9fd-70ac335fd128",
   "metadata": {},
   "source": [
    "however, sunny has a negative value in our model apparently. Why would that be? Lets chech out data for some answers. Lets chechk the tweets which the word sunny is included:"
   ]
  },
  {
   "cell_type": "code",
   "execution_count": 48,
   "id": "07963df1-9276-4d99-95ed-1d4df5b54ace",
   "metadata": {},
   "outputs": [],
   "source": [
    "sunny = df[df['tweet_text'].str.contains(\"sunny\")]"
   ]
  },
  {
   "cell_type": "code",
   "execution_count": 49,
   "id": "0d3109d3-bfbe-4874-984b-cf18c5976f38",
   "metadata": {},
   "outputs": [
    {
     "data": {
      "text/html": [
       "<div>\n",
       "<style scoped>\n",
       "    .dataframe tbody tr th:only-of-type {\n",
       "        vertical-align: middle;\n",
       "    }\n",
       "\n",
       "    .dataframe tbody tr th {\n",
       "        vertical-align: top;\n",
       "    }\n",
       "\n",
       "    .dataframe thead th {\n",
       "        text-align: right;\n",
       "    }\n",
       "</style>\n",
       "<table border=\"1\" class=\"dataframe\">\n",
       "  <thead>\n",
       "    <tr style=\"text-align: right;\">\n",
       "      <th></th>\n",
       "      <th>textID</th>\n",
       "      <th>tweet_text</th>\n",
       "      <th>tokens</th>\n",
       "      <th>tweet_sentiment</th>\n",
       "    </tr>\n",
       "    <tr>\n",
       "      <th>sentiment</th>\n",
       "      <th></th>\n",
       "      <th></th>\n",
       "      <th></th>\n",
       "      <th></th>\n",
       "    </tr>\n",
       "  </thead>\n",
       "  <tbody>\n",
       "    <tr>\n",
       "      <th>negative</th>\n",
       "      <td>23</td>\n",
       "      <td>23</td>\n",
       "      <td>23</td>\n",
       "      <td>23</td>\n",
       "    </tr>\n",
       "    <tr>\n",
       "      <th>positive</th>\n",
       "      <td>20</td>\n",
       "      <td>20</td>\n",
       "      <td>20</td>\n",
       "      <td>20</td>\n",
       "    </tr>\n",
       "  </tbody>\n",
       "</table>\n",
       "</div>"
      ],
      "text/plain": [
       "           textID  tweet_text  tokens  tweet_sentiment\n",
       "sentiment                                             \n",
       "negative       23          23      23               23\n",
       "positive       20          20      20               20"
      ]
     },
     "execution_count": 49,
     "metadata": {},
     "output_type": "execute_result"
    }
   ],
   "source": [
    "sunny.groupby('sentiment').count()"
   ]
  },
  {
   "cell_type": "markdown",
   "id": "6579da3b-166c-4382-b811-acbfb5049ad6",
   "metadata": {},
   "source": [
    "as can be seen, because of the context, the word 'sunny' is considered as negative by the model\n",
    "\n",
    "\n",
    "the difference between negative and positive 'sunny' usages are three\n",
    "\n",
    "therefore I will add 5 positive 'sunny' values to the data and rebuild the model\n",
    "\n",
    "first I will reread the csv data"
   ]
  },
  {
   "cell_type": "code",
   "execution_count": 50,
   "id": "78aed0a3-a59c-47d8-a8bc-9b22a34374aa",
   "metadata": {},
   "outputs": [],
   "source": [
    "df_ = pd.read_csv('tweet_data.csv')"
   ]
  },
  {
   "cell_type": "code",
   "execution_count": 51,
   "id": "a570770c-773d-4546-9a5a-95c43c46647c",
   "metadata": {},
   "outputs": [
    {
     "data": {
      "text/html": [
       "<div>\n",
       "<style scoped>\n",
       "    .dataframe tbody tr th:only-of-type {\n",
       "        vertical-align: middle;\n",
       "    }\n",
       "\n",
       "    .dataframe tbody tr th {\n",
       "        vertical-align: top;\n",
       "    }\n",
       "\n",
       "    .dataframe thead th {\n",
       "        text-align: right;\n",
       "    }\n",
       "</style>\n",
       "<table border=\"1\" class=\"dataframe\">\n",
       "  <thead>\n",
       "    <tr style=\"text-align: right;\">\n",
       "      <th></th>\n",
       "      <th>textID</th>\n",
       "      <th>tweet_text</th>\n",
       "      <th>sentiment</th>\n",
       "    </tr>\n",
       "  </thead>\n",
       "  <tbody>\n",
       "    <tr>\n",
       "      <th>18724</th>\n",
       "      <td>1753918900</td>\n",
       "      <td>Succesfully following Tayla!!</td>\n",
       "      <td>positive</td>\n",
       "    </tr>\n",
       "    <tr>\n",
       "      <th>18725</th>\n",
       "      <td>1753919001</td>\n",
       "      <td>Happy Mothers Day  All my love</td>\n",
       "      <td>positive</td>\n",
       "    </tr>\n",
       "    <tr>\n",
       "      <th>18726</th>\n",
       "      <td>1753919005</td>\n",
       "      <td>Happy Mother's Day to all the mommies out ther...</td>\n",
       "      <td>positive</td>\n",
       "    </tr>\n",
       "  </tbody>\n",
       "</table>\n",
       "</div>"
      ],
      "text/plain": [
       "           textID                                         tweet_text sentiment\n",
       "18724  1753918900                      Succesfully following Tayla!!  positive\n",
       "18725  1753919001                     Happy Mothers Day  All my love  positive\n",
       "18726  1753919005  Happy Mother's Day to all the mommies out ther...  positive"
      ]
     },
     "execution_count": 51,
     "metadata": {},
     "output_type": "execute_result"
    }
   ],
   "source": [
    "df_.tail(3)"
   ]
  },
  {
   "cell_type": "code",
   "execution_count": 52,
   "id": "0ec4af86-534b-4ab6-a80c-20ad333a89ee",
   "metadata": {},
   "outputs": [
    {
     "data": {
      "text/plain": [
       "(18727, 3)"
      ]
     },
     "execution_count": 52,
     "metadata": {},
     "output_type": "execute_result"
    }
   ],
   "source": [
    "df_.shape"
   ]
  },
  {
   "cell_type": "code",
   "execution_count": 78,
   "id": "7b148ade-bf14-4e91-af72-f7e15a3ace35",
   "metadata": {},
   "outputs": [],
   "source": [
    "df2 = pd.DataFrame({'textID': ['1838943234', '1838943235', '1838943236', '1838943237', '1838943238', '1838943239', '1838943240', '1838943240', '1838943240', '1838943240'],\n",
    "                    'tweet_text' : ['sunny days make me so happy!','dont get sad !sunny days are ahaed of us', 'sunny and awesome', 'sun is good for your health', 'beach is sunny and funny!!!', 'sun is beatiful', 'sun is so bright', 'sunny means funny!', 'a sunny garden iss all I want', 'The weather was surprisingly warm and sunny'], \n",
    "                    'sentiment' : ['positive', 'positive','positive','positive', 'positive', 'positive', 'positive', 'positive', 'positive', 'positive']})"
   ]
  },
  {
   "cell_type": "code",
   "execution_count": 79,
   "id": "f487c40f-32de-4a40-aa18-3be8a13eca4c",
   "metadata": {},
   "outputs": [
    {
     "data": {
      "text/html": [
       "<div>\n",
       "<style scoped>\n",
       "    .dataframe tbody tr th:only-of-type {\n",
       "        vertical-align: middle;\n",
       "    }\n",
       "\n",
       "    .dataframe tbody tr th {\n",
       "        vertical-align: top;\n",
       "    }\n",
       "\n",
       "    .dataframe thead th {\n",
       "        text-align: right;\n",
       "    }\n",
       "</style>\n",
       "<table border=\"1\" class=\"dataframe\">\n",
       "  <thead>\n",
       "    <tr style=\"text-align: right;\">\n",
       "      <th></th>\n",
       "      <th>textID</th>\n",
       "      <th>tweet_text</th>\n",
       "      <th>sentiment</th>\n",
       "    </tr>\n",
       "  </thead>\n",
       "  <tbody>\n",
       "    <tr>\n",
       "      <th>0</th>\n",
       "      <td>1838943234</td>\n",
       "      <td>sunny days make me so happy!</td>\n",
       "      <td>positive</td>\n",
       "    </tr>\n",
       "    <tr>\n",
       "      <th>1</th>\n",
       "      <td>1838943235</td>\n",
       "      <td>dont get sad !sunny days are ahaed of us</td>\n",
       "      <td>positive</td>\n",
       "    </tr>\n",
       "    <tr>\n",
       "      <th>2</th>\n",
       "      <td>1838943236</td>\n",
       "      <td>sunny and awesome</td>\n",
       "      <td>positive</td>\n",
       "    </tr>\n",
       "    <tr>\n",
       "      <th>3</th>\n",
       "      <td>1838943237</td>\n",
       "      <td>sun is good for your health</td>\n",
       "      <td>positive</td>\n",
       "    </tr>\n",
       "    <tr>\n",
       "      <th>4</th>\n",
       "      <td>1838943238</td>\n",
       "      <td>beach is sunny and funny!!!</td>\n",
       "      <td>positive</td>\n",
       "    </tr>\n",
       "    <tr>\n",
       "      <th>5</th>\n",
       "      <td>1838943239</td>\n",
       "      <td>sun is beatiful</td>\n",
       "      <td>positive</td>\n",
       "    </tr>\n",
       "    <tr>\n",
       "      <th>6</th>\n",
       "      <td>1838943240</td>\n",
       "      <td>sun is so bright</td>\n",
       "      <td>positive</td>\n",
       "    </tr>\n",
       "    <tr>\n",
       "      <th>7</th>\n",
       "      <td>1838943240</td>\n",
       "      <td>sunny means funny!</td>\n",
       "      <td>positive</td>\n",
       "    </tr>\n",
       "    <tr>\n",
       "      <th>8</th>\n",
       "      <td>1838943240</td>\n",
       "      <td>a sunny garden iss all I want</td>\n",
       "      <td>positive</td>\n",
       "    </tr>\n",
       "    <tr>\n",
       "      <th>9</th>\n",
       "      <td>1838943240</td>\n",
       "      <td>The weather was surprisingly warm and sunny</td>\n",
       "      <td>positive</td>\n",
       "    </tr>\n",
       "  </tbody>\n",
       "</table>\n",
       "</div>"
      ],
      "text/plain": [
       "       textID                                   tweet_text sentiment\n",
       "0  1838943234                 sunny days make me so happy!  positive\n",
       "1  1838943235     dont get sad !sunny days are ahaed of us  positive\n",
       "2  1838943236                            sunny and awesome  positive\n",
       "3  1838943237                  sun is good for your health  positive\n",
       "4  1838943238                  beach is sunny and funny!!!  positive\n",
       "5  1838943239                              sun is beatiful  positive\n",
       "6  1838943240                             sun is so bright  positive\n",
       "7  1838943240                           sunny means funny!  positive\n",
       "8  1838943240                a sunny garden iss all I want  positive\n",
       "9  1838943240  The weather was surprisingly warm and sunny  positive"
      ]
     },
     "execution_count": 79,
     "metadata": {},
     "output_type": "execute_result"
    }
   ],
   "source": [
    "df2"
   ]
  },
  {
   "cell_type": "code",
   "execution_count": 80,
   "id": "45fd318b-9f45-45a3-b1ce-ee8c2f0ffbce",
   "metadata": {},
   "outputs": [],
   "source": [
    "df = pd.concat([df_, df2], ignore_index = True, axis = 0)"
   ]
  },
  {
   "cell_type": "code",
   "execution_count": 81,
   "id": "bf88c433-ea2c-40e1-aebc-c7af3afbfaf5",
   "metadata": {},
   "outputs": [
    {
     "data": {
      "text/html": [
       "<div>\n",
       "<style scoped>\n",
       "    .dataframe tbody tr th:only-of-type {\n",
       "        vertical-align: middle;\n",
       "    }\n",
       "\n",
       "    .dataframe tbody tr th {\n",
       "        vertical-align: top;\n",
       "    }\n",
       "\n",
       "    .dataframe thead th {\n",
       "        text-align: right;\n",
       "    }\n",
       "</style>\n",
       "<table border=\"1\" class=\"dataframe\">\n",
       "  <thead>\n",
       "    <tr style=\"text-align: right;\">\n",
       "      <th></th>\n",
       "      <th>textID</th>\n",
       "      <th>tweet_text</th>\n",
       "      <th>sentiment</th>\n",
       "    </tr>\n",
       "  </thead>\n",
       "  <tbody>\n",
       "    <tr>\n",
       "      <th>18732</th>\n",
       "      <td>1838943239</td>\n",
       "      <td>sun is beatiful</td>\n",
       "      <td>positive</td>\n",
       "    </tr>\n",
       "    <tr>\n",
       "      <th>18733</th>\n",
       "      <td>1838943240</td>\n",
       "      <td>sun is so bright</td>\n",
       "      <td>positive</td>\n",
       "    </tr>\n",
       "    <tr>\n",
       "      <th>18734</th>\n",
       "      <td>1838943240</td>\n",
       "      <td>sunny means funny!</td>\n",
       "      <td>positive</td>\n",
       "    </tr>\n",
       "    <tr>\n",
       "      <th>18735</th>\n",
       "      <td>1838943240</td>\n",
       "      <td>a sunny garden iss all I want</td>\n",
       "      <td>positive</td>\n",
       "    </tr>\n",
       "    <tr>\n",
       "      <th>18736</th>\n",
       "      <td>1838943240</td>\n",
       "      <td>The weather was surprisingly warm and sunny</td>\n",
       "      <td>positive</td>\n",
       "    </tr>\n",
       "  </tbody>\n",
       "</table>\n",
       "</div>"
      ],
      "text/plain": [
       "           textID                                   tweet_text sentiment\n",
       "18732  1838943239                              sun is beatiful  positive\n",
       "18733  1838943240                             sun is so bright  positive\n",
       "18734  1838943240                           sunny means funny!  positive\n",
       "18735  1838943240                a sunny garden iss all I want  positive\n",
       "18736  1838943240  The weather was surprisingly warm and sunny  positive"
      ]
     },
     "execution_count": 81,
     "metadata": {},
     "output_type": "execute_result"
    }
   ],
   "source": [
    "df.tail()"
   ]
  },
  {
   "cell_type": "markdown",
   "id": "4eae95da-f591-42fd-a9b8-a04cf1f7e19c",
   "metadata": {},
   "source": [
    "Now lets rebuild the model"
   ]
  },
  {
   "cell_type": "code",
   "execution_count": 82,
   "id": "0e3aecfa-03b3-4a9c-a92a-5b9503b16d68",
   "metadata": {},
   "outputs": [],
   "source": [
    "df['tokens'] = df['tweet_text'].apply(process_tweet)\n",
    "df['tweet_sentiment'] = df['sentiment'].apply(lambda i:1 \n",
    "                                             if i== 'positive' else 0)\n",
    "\n",
    "X = df['tokens'].tolist()\n",
    "y = df['tweet_sentiment'].tolist()\n",
    "\n",
    "def build_freqs(tweet_list, sentiment_list):\n",
    "  freqs = {}\n",
    "  for tweet, sentiment in zip(tweet_list, sentiment_list):\n",
    "    for word in tweet:\n",
    "      pair = (word, sentiment)\n",
    "      if pair in freqs:\n",
    "        freqs[pair] += 1\n",
    "      else:\n",
    "        freqs[pair] = 1\n",
    "  return freqs\n",
    "\n",
    "def fit_tfidf(tweet_corpus):\n",
    "  tf_vect = TfidfVectorizer(preprocessor = lambda x : x,\n",
    "                            tokenizer  = lambda x : x)\n",
    "  tf_vect.fit(tweet_corpus)\n",
    "  return tf_vect\n",
    "\n",
    "X_train, X_test, y_train, y_test = train_test_split(X, y,\n",
    "                                                    random_state = 0,\n",
    "                                                    train_size = 0.80)"
   ]
  },
  {
   "cell_type": "code",
   "execution_count": 83,
   "id": "658f3140-67d1-4ba0-8407-6f8592ca1fe3",
   "metadata": {},
   "outputs": [
    {
     "name": "stderr",
     "output_type": "stream",
     "text": [
      "C:\\Users\\yakup\\anaconda3\\lib\\site-packages\\sklearn\\feature_extraction\\text.py:516: UserWarning: The parameter 'token_pattern' will not be used since 'tokenizer' is not None'\n",
      "  warnings.warn(\n"
     ]
    }
   ],
   "source": [
    "def fit_lr(X_train, y_train):\n",
    "  model = LogisticRegression()\n",
    "  model.fit(X_train, y_train)\n",
    "  return model\n",
    "\n",
    "tf = fit_tfidf(X_train)\n",
    "X_train_tf = tf.transform(X_train)\n",
    "X_test_tf = tf.transform(X_test)\n",
    "\n",
    "model_lr_tf = fit_lr(X_train_tf, y_train)"
   ]
  },
  {
   "cell_type": "code",
   "execution_count": 84,
   "id": "a6d4f7b2-41e6-4219-a585-9d0cdb8a5e35",
   "metadata": {},
   "outputs": [
    {
     "data": {
      "text/plain": [
       "0.891675560298826"
      ]
     },
     "execution_count": 84,
     "metadata": {},
     "output_type": "execute_result"
    }
   ],
   "source": [
    "y_pred_lr_tf = model_lr_tf.predict(X_test_tf)\n",
    "\n",
    "accuracy_score(y_test, y_pred_lr_tf)"
   ]
  },
  {
   "cell_type": "code",
   "execution_count": 85,
   "id": "3c92005a-a050-4b3b-afb0-a877c43660f4",
   "metadata": {},
   "outputs": [],
   "source": [
    "def predict_tweet(tweet):\n",
    "  processed_tweet = process_tweet(tweet)#will call the preprocess tweet we defined above\n",
    "  transformed_tweet = tf.transform([processed_tweet])#will vectorize our twett with tf-idf \n",
    "  prediction = model_lr_tf.predict(transformed_tweet)\n",
    "\n",
    "  if prediction == 0:\n",
    "    return 'Prediction sentiment is negative'\n",
    "  else:\n",
    "    return 'Prediction sentiment is positive'"
   ]
  },
  {
   "cell_type": "code",
   "execution_count": 86,
   "id": "ead18120-8623-4b96-84e5-bb7b342ddef9",
   "metadata": {},
   "outputs": [],
   "source": [
    "your_tweet = 'sun day'"
   ]
  },
  {
   "cell_type": "code",
   "execution_count": 87,
   "id": "898cefbb-8419-4602-bf0d-78ac26354c9f",
   "metadata": {},
   "outputs": [
    {
     "data": {
      "text/plain": [
       "'Prediction sentiment is positive'"
      ]
     },
     "execution_count": 87,
     "metadata": {},
     "output_type": "execute_result"
    }
   ],
   "source": [
    "predict_tweet(your_tweet)"
   ]
  },
  {
   "cell_type": "code",
   "execution_count": 88,
   "id": "a70c28ef-db0b-493f-8d52-9e9489ad5f1d",
   "metadata": {},
   "outputs": [],
   "source": [
    "your_tweet = 'sunny'"
   ]
  },
  {
   "cell_type": "code",
   "execution_count": 89,
   "id": "aeadcab6-da5b-4da1-989d-3b098a182294",
   "metadata": {},
   "outputs": [
    {
     "data": {
      "text/plain": [
       "'Prediction sentiment is positive'"
      ]
     },
     "execution_count": 89,
     "metadata": {},
     "output_type": "execute_result"
    }
   ],
   "source": [
    "predict_tweet(your_tweet)"
   ]
  },
  {
   "cell_type": "markdown",
   "id": "c3264481-bc6d-4276-a15e-6c972251bfae",
   "metadata": {},
   "source": [
    "As can be seen, as we increased the frequency of positive sentiments in the train data for the word sunny, the machine learned that 'sunny' is positive, just to see before finishing, lets check and see that our new data has a greater frequency of positive usage of sunny and sun:"
   ]
  },
  {
   "cell_type": "code",
   "execution_count": 90,
   "id": "e90e03f0-3bab-4f69-a9e5-abab40885eaf",
   "metadata": {},
   "outputs": [],
   "source": [
    "sunny2 = df[df['tweet_text'].str.contains(\"sunny\")]"
   ]
  },
  {
   "cell_type": "code",
   "execution_count": 91,
   "id": "6b99044f-6798-46ed-809f-ab7693d562e8",
   "metadata": {},
   "outputs": [
    {
     "data": {
      "text/html": [
       "<div>\n",
       "<style scoped>\n",
       "    .dataframe tbody tr th:only-of-type {\n",
       "        vertical-align: middle;\n",
       "    }\n",
       "\n",
       "    .dataframe tbody tr th {\n",
       "        vertical-align: top;\n",
       "    }\n",
       "\n",
       "    .dataframe thead th {\n",
       "        text-align: right;\n",
       "    }\n",
       "</style>\n",
       "<table border=\"1\" class=\"dataframe\">\n",
       "  <thead>\n",
       "    <tr style=\"text-align: right;\">\n",
       "      <th></th>\n",
       "      <th>textID</th>\n",
       "      <th>tweet_text</th>\n",
       "      <th>tokens</th>\n",
       "      <th>tweet_sentiment</th>\n",
       "    </tr>\n",
       "    <tr>\n",
       "      <th>sentiment</th>\n",
       "      <th></th>\n",
       "      <th></th>\n",
       "      <th></th>\n",
       "      <th></th>\n",
       "    </tr>\n",
       "  </thead>\n",
       "  <tbody>\n",
       "    <tr>\n",
       "      <th>negative</th>\n",
       "      <td>23</td>\n",
       "      <td>23</td>\n",
       "      <td>23</td>\n",
       "      <td>23</td>\n",
       "    </tr>\n",
       "    <tr>\n",
       "      <th>positive</th>\n",
       "      <td>27</td>\n",
       "      <td>27</td>\n",
       "      <td>27</td>\n",
       "      <td>27</td>\n",
       "    </tr>\n",
       "  </tbody>\n",
       "</table>\n",
       "</div>"
      ],
      "text/plain": [
       "           textID  tweet_text  tokens  tweet_sentiment\n",
       "sentiment                                             \n",
       "negative       23          23      23               23\n",
       "positive       27          27      27               27"
      ]
     },
     "execution_count": 91,
     "metadata": {},
     "output_type": "execute_result"
    }
   ],
   "source": [
    "sunny2.groupby('sentiment').count()"
   ]
  },
  {
   "cell_type": "code",
   "execution_count": null,
   "id": "b06b537a-27b9-4099-aa9a-116cdeb84d1d",
   "metadata": {},
   "outputs": [],
   "source": []
  },
  {
   "cell_type": "code",
   "execution_count": 92,
   "id": "952893c2-73c4-474a-be11-de8c2351cac5",
   "metadata": {},
   "outputs": [],
   "source": [
    "sun = df[df['tweet_text'].str.contains(\"sun\")]"
   ]
  },
  {
   "cell_type": "code",
   "execution_count": 93,
   "id": "483c7b24-815b-44f5-b22f-95765c4412e0",
   "metadata": {},
   "outputs": [
    {
     "data": {
      "text/html": [
       "<div>\n",
       "<style scoped>\n",
       "    .dataframe tbody tr th:only-of-type {\n",
       "        vertical-align: middle;\n",
       "    }\n",
       "\n",
       "    .dataframe tbody tr th {\n",
       "        vertical-align: top;\n",
       "    }\n",
       "\n",
       "    .dataframe thead th {\n",
       "        text-align: right;\n",
       "    }\n",
       "</style>\n",
       "<table border=\"1\" class=\"dataframe\">\n",
       "  <thead>\n",
       "    <tr style=\"text-align: right;\">\n",
       "      <th></th>\n",
       "      <th>textID</th>\n",
       "      <th>tweet_text</th>\n",
       "      <th>tokens</th>\n",
       "      <th>tweet_sentiment</th>\n",
       "    </tr>\n",
       "    <tr>\n",
       "      <th>sentiment</th>\n",
       "      <th></th>\n",
       "      <th></th>\n",
       "      <th></th>\n",
       "      <th></th>\n",
       "    </tr>\n",
       "  </thead>\n",
       "  <tbody>\n",
       "    <tr>\n",
       "      <th>negative</th>\n",
       "      <td>138</td>\n",
       "      <td>138</td>\n",
       "      <td>138</td>\n",
       "      <td>138</td>\n",
       "    </tr>\n",
       "    <tr>\n",
       "      <th>positive</th>\n",
       "      <td>142</td>\n",
       "      <td>142</td>\n",
       "      <td>142</td>\n",
       "      <td>142</td>\n",
       "    </tr>\n",
       "  </tbody>\n",
       "</table>\n",
       "</div>"
      ],
      "text/plain": [
       "           textID  tweet_text  tokens  tweet_sentiment\n",
       "sentiment                                             \n",
       "negative      138         138     138              138\n",
       "positive      142         142     142              142"
      ]
     },
     "execution_count": 93,
     "metadata": {},
     "output_type": "execute_result"
    }
   ],
   "source": [
    "sun.groupby('sentiment').count()"
   ]
  },
  {
   "cell_type": "markdown",
   "id": "dbc550f6-ae9c-4ca6-8841-5f48391e7576",
   "metadata": {},
   "source": []
  },
  {
   "cell_type": "markdown",
   "id": "0d433b24-e1f1-4bec-b478-6665233d35fc",
   "metadata": {},
   "source": [
    "The tweet data is retreived from Benjamin Termonia's 'Applied Text Mining and Sentiment Analysis with Python' Course on UDEMY\n",
    "URL: https://www.udemy.com/course/applied-text-mining-and-sentiment-analysis-with-python/?src=sac&kw=applied+text+m"
   ]
  },
  {
   "cell_type": "code",
   "execution_count": null,
   "id": "3ab552d9-aa7a-4e3f-9ce5-1e63b2b962e6",
   "metadata": {},
   "outputs": [],
   "source": []
  }
 ],
 "metadata": {
  "kernelspec": {
   "display_name": "Python 3 (ipykernel)",
   "language": "python",
   "name": "python3"
  },
  "language_info": {
   "codemirror_mode": {
    "name": "ipython",
    "version": 3
   },
   "file_extension": ".py",
   "mimetype": "text/x-python",
   "name": "python",
   "nbconvert_exporter": "python",
   "pygments_lexer": "ipython3",
   "version": "3.9.7"
  }
 },
 "nbformat": 4,
 "nbformat_minor": 5
}
